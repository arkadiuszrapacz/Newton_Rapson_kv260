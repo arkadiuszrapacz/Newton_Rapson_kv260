{
 "cells": [
  {
   "cell_type": "markdown",
   "metadata": {},
   "source": [
    "<table align=\"center\"><tr><th> <div style=\"width:600px\"> <h4>AGH University of Krakow <br><br> Faculty of Computer Science, Electronics and Telecommunication <br><br> Institute of Electronics </h4></div></th><th> <div style=\"width:200px\"><img src=\"./img/logo_agh.png\" width=\"68\" height=\"136\"/></div> </th></tr></table>\n",
    "\n",
    "---\n",
    "\n",
    "<div style=\"text-align:center\"><h3>CUSTOM SYSTEM DESIGN IN FPGA LABORATORY</h3></div>\n",
    "<br>\n",
    "<div style=\"text-align:center\"><h1>Multi-cycle functional elements.<br>Newton-Raphson method for division</h1></div>\n",
    "<br>\n",
    "\n",
    "> **NOTE:** This tutorial demonstrates the validating process of the Newton-Raphson algorithm. For the exercise, we will use the PYNQ system with [AMD-Xilinx KRIA KV260](https://www.amd.com/en/products/system-on-modules/kria/k26/kv260-vision-starter-kit.html) development platform.\n",
    "## Contents\n",
    "\n",
    "* [Introduction](#Introduction)\n",
    "* [Connection and communication with the development board](#Connection-and-communication-with-the-development-board)\n",
    "* [Single-cycle multiplication](#Single-cycle-multiplication)\n",
    "* [Paper-and-pencil multiplication](#Paper-and-pencil-multiplication)\n",
    "* [Handshaking for the multi-cycle functional elements](#Handshaking-for-the-multi-cycle-functional-elements)\n",
    "* [Multi-cycled multiplication](#Multi-cycled-multiplication)\n",
    "* [Newton-Rapson division algorithm](#Newton-Rapson-division-algorithm)\n",
    "* [Simulation using dedicated PYNQ hardware file](#Simulation-using-dedicated-PYNQ-hardware-file)\n",
    "* [Analyze the obtained results from Newton-Raphson algorithm](#Analyze-the-obtained-results-from-Newton-Raphson-algorithm)\n",
    "\n",
    "<div style=\"text-align:right\"><h5> ver 0.2.1 </h5></div><br>"
   ]
  },
  {
   "cell_type": "markdown",
   "metadata": {},
   "source": [
    "\n",
    "# Introduction\n",
    "\n",
    "### Objectives\n",
    "\n",
    "<ul>The main goal of this tutorial is to introduce the validation of results obtained from the FPGA systems we have constructed. <br>To perform the necessary operations, we will use the system we have built that utilizes the Newton-Raphson algorithm.\n",
    "The case study for the problem of multi-cycling is Newton-Rapson algorithm for the division.\n",
    "We will explain and implement the algorithm with Pynq in Jupyter Notebook.</ul>\n",
    "\n",
    "### Prerequisites\n",
    "\n",
    "<ul>Familiarity with the implementation code of the Newton-Raphson algorithm we have constructed is required. We expect the student to know the principles of operation of synchronous sequential circuits. Additionally, it is necessary to understand the basic concepts that are the foundation of any HDL, as well as basic Python programming skills.</ul>\n"
   ]
  },
  {
   "cell_type": "markdown",
   "metadata": {},
   "source": [
    "# Connection and communication with the development board\n",
    "\n",
    "**PYNQ Install**<br>\n",
    "<ul>During the laboratory classes students get already prepared SD cards with Ubuntu and PYNQ setup.<br>\n",
    "To install on your own SD card, just follow the instructions on the official [GitHub repository](https://github.com/Xilinx/Kria-PYNQ).</ul><br>\n",
    "\n",
    "> **STEP 1:** Connect cables to the KRIA\n",
    ">\n",
    ">> A. Insert the microSD card to the J11<br>\n",
    ">> B. Connect micro-USB cable to J4<br>\n",
    ">> C. Connect RJ45 cable<br>\n",
    ">> D. Connect power supply to J12<br>\n",
    ">\n",
    "> **WARNING:** After connecting to power supply the fan located at the KRIA board will start at full speed. It will slow down after correct boot of Ubuntu OS, in approx. 3 minuts.\n",
    "\n",
    "<img src=\"./img/kria_plugs.png\" width=\"300\"/>\n",
    "\n",
    "\n",
    "> **STEP 2:** Connect to the network\n",
    ">\n",
    "> PYNQ is working most efficient if it has access to the Internet. If available, you should connect your board to a network or router with Internet access. This will allow you to update your board and easily install new packages. There are two options:\n",
    ">\n",
    ">> LEFT option: Connect the KRIA with RJ45 directly to the PC (embedded network card, or dongle **USB<->Ethernet** included in the lab box)<br>\n",
    ">> RIGHT option: Connet the KRIA to the router<br>\n",
    "\n",
    "<img src=\"./img/kria_setup_network.png\" width=\"800\"/>\n",
    "\n",
    "> You will need to have an Ethernet port available on your computer, and you will need to have permissions to configure your network interface. With a direct connection, you will be able to use PYNQ, but unless you can bridge the Ethernet connection to the board to an Internet connection on your computer, your board will not have Internet access. You will be unable to update or load new packages without Internet access.<br>\n",
    ">\n",
    ">> In the example below **Ethernet** is PC connection to LAN, and **Ethernet 3** is connection with KRIA. Use **View Network Connections** to set **Internet Connetion Sharing** option.<br>In case of no Received Bytes on **Ethernet 3** network, the best solution is to *disable and enable* network sharing in the **Ethernet** Properties tab.\n",
    "\n",
    "<img src=\"./img/setup_ethernet.png\" width=\"800\"/>\n",
    "\n",
    "> **STEP 3:** Open a USB Serial Terminal\n",
    ">\n",
    ">  You can use the terminal to check the network connection of the board. [PuTTY](https://www.putty.org/) is one application that can be used. To open a terminal, you will need to know the COM port for the board. Use 115200 baud rate. To login use data:\n",
    ">\n",
    ">> username: ubuntu<br>\n",
    ">> password: kriasdup<br>\n",
    ">\n",
    "> You can check the HOSTNAME and IP address of the board using *ifconfig*. \n",
    "> In this example: \n",
    ">\n",
    ">> HOSTNAME: kriaSDUP-0<br>\n",
    ">> IPaddress: 192.168.137.227\n",
    "\n",
    "<img src=\"./img/kria_putty.png\" width=\"500\"/>\n",
    "\n",
    "> **STEP 4:** Connecting to Jupyter Notebook (LAB)\n",
    ">\n",
    "> Once your board is setup, to connect to Jupyter Notebooks open a web browser on your PC and navigate to:\n",
    ">\n",
    ">> [HOSTNAME:9090/lab](HOSTNAME:9090/lab) or <br>\n",
    ">> [IPaddress:9090/lab](IPaddress:9090/lab)<br>\n",
    ">\n",
    "> To login use data:\n",
    ">\n",
    ">> password: xilinx<br>\n",
    ">\n",
    "> You can use drag-and-drop to copy files to the board.<br>\n",
    "> To download file from the board use option File -> Download.\n",
    "\n",
    "<img src=\"./img/kria_jupyter.png\" width=\"600\"/><br><br>\n",
    "\n",
    "Starting from now you can work on a copy of this document.\n",
    "Create your work folder (e.g., /sdup/student) and copy to it extracted archive newtwonRapson.zip, from [GitHub repository](https://github.com/arkadiuszrapacz/Newton_Rapson_kv260/) which consists of a Jupyter notebook file and a folder with images.\n",
    "Then just open the notebook file on KRIA and go to the next step.\n"
   ]
  },
  {
   "cell_type": "markdown",
   "metadata": {},
   "source": [
    "# Single-cycle-multiplication\n",
    "\n",
    "## Reminder\n",
    "\n",
    "<ul>Combinatorial digital systems implements logic gates only and no registers are used in the design.<br><br>\n",
    "When multiplication is implemented as combinatorial logic, it can be performed in a single\n",
    "clock cycle in the custom procesor. However, multipliction of integers is a complex operation,\n",
    "and it usually introduce long delay paths if implemented in a combinatorial way.<br><br>\n",
    "Fortunately, the FPGA designers can take advantege of combinatorial multiplication because\n",
    "FPGAs features dedicated multiplier blocks. The maximum delay of such blocks is comparable\n",
    "to the maximum FPGA clock cycle; therefore, they do not affect overal system performance.\n",
    "For example, Xilinx's 7-series FPGAs feature 25×18 – bit multiplier blocks.<br><br>\n",
    "The example code of simple 12×12 - bit multiplier is given below.</ul>"
   ]
  },
  {
   "cell_type": "markdown",
   "metadata": {},
   "source": [
    "``` cpp\n",
    "`timescale 1ns / 1ps\n",
    "//////////////////////////////////////////////////////////////////////////////\n",
    "// Filename: multiply12.sv\n",
    "// Module Name: mul12\n",
    "//////////////////////////////////////////////////////////////////////////////\n",
    "module mul12(\n",
    "    input logic[11:0] input0,\n",
    "    input logic[11:0] input1,\n",
    "    output logic[23:0] output0\n",
    ");\n",
    "always_comb begin\n",
    "    output0 <= input0 * input1;\n",
    "end\n",
    "endmodule\n",
    "```"
   ]
  },
  {
   "cell_type": "markdown",
   "metadata": {},
   "source": [
    "## Multiplication Using Bit Shifting\n",
    "\n",
    "Multiplication using bit shifting is a technique that utilizes bitwise operations to quickly compute the result of multiplying by powers of two.\n",
    "\n",
    "Suppose we want to multiply a number `x` by `2^n`, where `n` is a positive integer. Instead of performing traditional multiplication, we can achieve the same result by using left bit shifting. This process involves shifting all bits of the number `x` to the left by `n` positions.\n",
    "\n",
    "### Example\n",
    "\n",
    "If `x = 5` and `n = 2`, then `x << n` shifts the binary representation of `5` (`101` in binary) two positions to the left, resulting in `10100` in binary, which is `20` in decimal.\n",
    "\n",
    "### Applications\n",
    "\n",
    "- **Efficiency**: Bit shifting is faster than traditional multiplication, especially in low-level programming.\n",
    "- **Implementation**: It is commonly used in algorithms and data structures where performance optimization is critical.\n",
    "\n",
    "Bit shifting is a powerful technique in computer science for efficiently handling operations involving powers of two.\n"
   ]
  },
  {
   "cell_type": "markdown",
   "metadata": {},
   "source": [
    "## Exercise 1.1\n",
    "<ul>Adjust the following code appropriately to achieve the CORRECT multiplication effect (using bit shifting).</ul>"
   ]
  },
  {
   "cell_type": "code",
   "execution_count": 1,
   "metadata": {},
   "outputs": [
    {
     "name": "stdout",
     "output_type": "stream",
     "text": [
      "Result of 101 * 110 (binary): 11110\n"
     ]
    }
   ],
   "source": [
    "def multiply_bitwise(num1_bit, num2_bit):\n",
    "\n",
    "    num1 = int(num1_bit, 2)\n",
    "    num2 = int(num2_bit, 2)\n",
    "    \n",
    "    result = 0\n",
    "    \n",
    "    while num2 > 0:\n",
    "        if num2 & 1:\n",
    "            result += num1\n",
    "\n",
    "        num1 <<= 1 ## HERE\n",
    "        num2 >>= 1  ## HERE\n",
    "    \n",
    "    result_bit = bin(result)[2:]\n",
    "    \n",
    "    return result_bit\n",
    "\n",
    "# Example usage:\n",
    "num1_bit = '101'  # Binary representation of 5\n",
    "num2_bit = '110'  # Binary representation of 6\n",
    "\n",
    "result = multiply_bitwise(num1_bit, num2_bit)\n",
    "print(f\"Result of {num1_bit} * {num2_bit} (binary): {result}\")\n"
   ]
  },
  {
   "cell_type": "markdown",
   "metadata": {},
   "source": [
    "# Paper-and-pencil multiplication"
   ]
  },
  {
   "cell_type": "markdown",
   "metadata": {},
   "source": [
    "## Reminder\n",
    "<ul>Paper-and-pencil method is widely used to perform manual multiplication of long digits. The\n",
    "concept can be easily adopted as multiplication algorithm that allow split long registers into\n",
    "shorter ones. The method is depicted in Figure 1.</ul>\n",
    "\n",
    "<div style = \"text-align:center;\"> <img src=\"./img/paper_and_pencil.png\" width=\"500\"/> </div><br>\n",
    "\n",
    "<ul>Here in the Figure 1, the registers a0, a1, b0, b1 are half the size of input aguments.\n",
    "Conseguantly, reduced size multiplication can be performed. Partial products are summed up\n",
    "to produce the final result.\n",
    "The paper-and pencil algorithm is also given as System Verilog code below.</ul>"
   ]
  },
  {
   "cell_type": "markdown",
   "metadata": {},
   "source": [
    "```cpp\n",
    "`timescale 1ns / 1ps\n",
    "////////////////////////////////////////////////////////////////////////////////\n",
    "//\n",
    "// Module Name: mul24_comb\n",
    "// File: mul24_comb.sv\n",
    "////////////////////////////////////////////////////////////////////////////////\n",
    "//\n",
    "module mul24_comb(\n",
    "    input logic[23:0] input0,\n",
    "    input logic[23:0] input1,\n",
    "    output logic[47:0] output0\n",
    ");\n",
    "//Auxiliary signals\n",
    "logic [11:0] a0, a1, b0, b1;\n",
    "assign a0 = input0[11:0];\n",
    "assign a1 = input0[23:12];\n",
    "assign b0 = input1[11:0];\n",
    "assign b1 = input1[23:12];\n",
    "logic [23:0] tmp; // Tmp. result of fractional mul.\n",
    "logic [47:0] result;\n",
    "assign output0 = result;\n",
    "always_comb begin\n",
    "    //\n",
    "    result = 48'h0;\n",
    "    tmp = a0 * b0;\n",
    "    // P0\n",
    "    result[23:0] = tmp;\n",
    "    tmp = a1 * b0;\n",
    "    // P1\n",
    "    result[35:12] = result[35:12] + tmp;\n",
    "    tmp = a0 * b1;\n",
    "    // P2\n",
    "    result[36:12] = result[35:12] + tmp;\n",
    "    tmp = a1 * b1;\n",
    "    // DONE\n",
    "    result[47:24] = result[47:24] + tmp;\n",
    "end\n",
    "endmodule\n",
    "```"
   ]
  },
  {
   "cell_type": "markdown",
   "metadata": {},
   "source": [
    "## Exercise 2.1\n",
    "<ul>Below is the implementation of the Paper And Pencil algorithm using Python. The program divides the numbers input0 and input1 into lower (12 least significant bits) and upper (12 most significant bits) parts. The variable 'result' is responsible for accumulating the results of individual component results in the appropriate bit positions.</ul>"
   ]
  },
  {
   "cell_type": "code",
   "execution_count": 2,
   "metadata": {},
   "outputs": [
    {
     "name": "stdout",
     "output_type": "stream",
     "text": [
      "input0 = 1100\n",
      "input1 = 1010\n",
      "output0 = 1111000\n"
     ]
    }
   ],
   "source": [
    "def PaP_mul(input0, input1):\n",
    "\n",
    "    input0_a0 = input0 & 0b11           # 2 najmniej znaczące bity input0\n",
    "    input0_a1 = (input0 >> 2) & 0b11    # kolejne 2 bity input0\n",
    "    input1_b0 = input1 & 0b11           # 2 najmniej znaczące bity input1\n",
    "    input1_b1 = (input1 >> 2) & 0b11    # kolejne 2 bity input1\n",
    "\n",
    "    result = 0\n",
    "    tmp = 0\n",
    "\n",
    "    # P0\n",
    "    tmp = input0_a0 * input1_b0\n",
    "    result |= tmp  \n",
    "    \n",
    "    # P1\n",
    "    tmp = input0_a1 * input1_b0\n",
    "    result |= (tmp << 2)  \n",
    "    \n",
    "    # P2\n",
    "    tmp = input0_a0 * input1_b1\n",
    "    result |= (tmp << 2)  \n",
    "\n",
    "    # DONE\n",
    "    tmp = input0_a1 * input1_b1\n",
    "    result |= (tmp << 4)  \n",
    "\n",
    "    return result\n",
    "\n",
    "\n",
    "input0 = int('1100', 2) \n",
    "input1 = int('1010', 2)  \n",
    "\n",
    "output0 = PaP_mul(input0, input1)\n",
    "\n",
    "print(f\"input0 = {bin(input0)[2:]}\")\n",
    "print(f\"input1 = {bin(input1)[2:]}\")\n",
    "print(f\"output0 = {bin(output0)[2:]}\")  \n"
   ]
  },
  {
   "cell_type": "markdown",
   "metadata": {},
   "source": [
    "```cpp\n",
    "module multi_cycle_fun(\n",
    "    input logic clk,\n",
    "    input logic ,\n",
    "    output logic ready,\n",
    "    // inputs\n",
    "    input logic [bit_width0-1:0] input0,\n",
    "    input logic [bit_width1-1:0] input1,\n",
    "    ...\n",
    "    // outputs\n",
    "    output logic [bit_width1-1:0] output0,\n",
    "    ...\n",
    ");\n",
    "```"
   ]
  },
  {
   "cell_type": "markdown",
   "metadata": {},
   "source": [
    "<ul>When the input signal is active, it indicates that the input data is valid. If the multifunctional unit is idle, it starts its internal processing immediately upon activation. Once the processing is finished, the ready signal is asserted. The method is presented in the Figure 2.</ul>"
   ]
  },
  {
   "cell_type": "markdown",
   "metadata": {},
   "source": [
    "<div style = \"text-align:center;\"> <img src=\"./img/handshaking.png\" width=\"500\"/> </div><br>\n",
    "\n",
    "<ul>The corresponding Verilog code is given below.</ul>"
   ]
  },
  {
   "cell_type": "markdown",
   "metadata": {},
   "source": [
    "```cpp\n",
    "//FSM template for handshaking signals\n",
    "enum {IDLE=0, P0, P1, P2, DONE} state;\n",
    "    always_ff @(posedge clk) begin: fsm\n",
    "        case(state)\n",
    "            IDLE: begin\n",
    "                ready <= 1'b0;\n",
    "                state <= P0;\n",
    "                // other alg. related ops.\n",
    "            end\n",
    "                P0: begin\n",
    "                // other alg. related ops.\n",
    "                state <= P1;\n",
    "            end\n",
    "            P1: begin\n",
    "                // alg. related ops.\n",
    "                // other alg. related ops.\n",
    "            end\n",
    "            .\n",
    "            .\n",
    "            .\n",
    "            .\n",
    "            Pn: begin\n",
    "                // alg. related ops.\n",
    "                state <= DONE;\n",
    "            end\n",
    "            DONE: begin\n",
    "                // other alg. related ops.ready <= 1'b1;\n",
    "                ready <= 1'b1;\n",
    "                state <= IDLE;\n",
    "            end\n",
    "        endcase\n",
    "    end: fsm   \n",
    "```"
   ]
  },
  {
   "cell_type": "markdown",
   "metadata": {},
   "source": [
    "# Multi-cycled multiplication"
   ]
  },
  {
   "cell_type": "markdown",
   "metadata": {},
   "source": [
    "<ul>Now, as we have had prepared the template for multi-cycle elements, we can prepare the multi-cycled paper-and-pencil multiplier.</ul>"
   ]
  },
  {
   "cell_type": "markdown",
   "metadata": {},
   "source": [
    "```cpp\n",
    "`timescale 1ns / 1ps\n",
    "////////////////////////////////////////////////////////////////////////////////\n",
    "// Module Name: mul24_inf\n",
    "// File Namee: mul24_inf.sv\n",
    "////////////////////////////////////////////////////////////////////////////////\n",
    "module mul24_infer(\n",
    "    input logic clk,\n",
    "    input logic ,\n",
    "    output logic ready,\n",
    "    input logic[23:0] input0,\n",
    "    input logic[23:0] input1,\n",
    "    output logic[47:0] output0\n",
    ");\n",
    "//Auxiliary signals\n",
    "logic [11:0] a0, a1, b0, b1; // a0 = low(input0); a1 = high(input0); b0 =\n",
    "low(input2); ...\n",
    "assign a0 = input0[11:0];\n",
    "assign a1 = input0[23:12];\n",
    "assign b0 = input1[11:0];\n",
    "assign b1 = input1[23:12];\n",
    "logic [23:0] tmp; // Tmp. result of fractional mul.\n",
    "logic [47:0] result;\n",
    "assign output0 = result;\n",
    "//FSM\n",
    "enum {IDLE=0, P0, P1, P2, DONE} state;\n",
    "    always_ff @(posedge clk) begin: fsm\n",
    "        case(state)\n",
    "            IDLE: begin\n",
    "                ready <= 1'b0;\n",
    "                if ( == 1'b0) begin\n",
    "                    state <= IDLE;\n",
    "                end else begin\n",
    "                    result <= 48'h0;\n",
    "                    tmp <= a0 * b0;\n",
    "                    state <= P0;\n",
    "                end\n",
    "            end\n",
    "            P0: begin\n",
    "                result[23:0] <= tmp;\n",
    "                tmp <= a1 * b0;\n",
    "                state <= P1;\n",
    "            end\n",
    "            P1: begin\n",
    "                result[35:12] <= result[35:12] + tmp;\n",
    "                tmp <= a0 * b1;\n",
    "                state <= P2;\n",
    "            end\n",
    "            P2: begin\n",
    "                result[36:12] <= result[36:12] + tmp;\n",
    "                tmp <= a1*b1;\n",
    "                state <= DONE;\n",
    "            end\n",
    "            DONE: begin\n",
    "                result[47:24] <= result[47:24] + tmp;\n",
    "                ready <= 1'b1;\n",
    "                state <= IDLE;\n",
    "            end\n",
    "        endcase\n",
    "    end: fsm\n",
    "endmodule\n",
    "```"
   ]
  },
  {
   "cell_type": "markdown",
   "metadata": {},
   "source": [
    "<div style = \"text-align:center;\"> <img src=\"./img/machine_state.png\" width=\"500\"/> </div><br>\n"
   ]
  },
  {
   "cell_type": "code",
   "execution_count": 3,
   "metadata": {},
   "outputs": [
    {
     "name": "stdout",
     "output_type": "stream",
     "text": [
      "Output: 0xfffffe000001\n"
     ]
    }
   ],
   "source": [
    "def multi_cycled_mul(input0, input1):\n",
    "    a0 = input0 & 0xFFF\n",
    "    a1 = (input0 >> 12) & 0xFFF\n",
    "    b0 = input1 & 0xFFF\n",
    "    b1 = (input1 >> 12) & 0xFFF\n",
    "    \n",
    "    tmp = a0 * b0\n",
    "    result = tmp\n",
    "    tmp = a1 * b0\n",
    "    result += tmp << 12\n",
    "    tmp = a0 * b1\n",
    "    result += tmp << 12\n",
    "    tmp = a1 * b1\n",
    "    result += tmp << 24\n",
    "    \n",
    "    return result\n",
    "\n",
    "# Test the function\n",
    "input0 = 0xFFFFFF  \n",
    "input1 = 0xFFFFFF  \n",
    "\n",
    "output = multi_cycled_mul(input0, input1)\n",
    "print(f\"Output: {output:#0{14}x}\") \n"
   ]
  },
  {
   "cell_type": "markdown",
   "metadata": {},
   "source": [
    "# Newton-Rapson division algorithm\n",
    "The division $$ \\frac{a}{b} $$ can be seen as multiplication $$ a*\\frac{1}{b} $$ Therefore, the algorithm presented\n",
    "here is an algorithm for $$ f(d) = \\frac{1}{d} $$ function.\n",
    "\n"
   ]
  },
  {
   "cell_type": "markdown",
   "metadata": {},
   "source": [
    "## Newton method\n",
    "\n",
    "Newton's Method is used to find successive approximations to the roots of a function.\n",
    "\n",
    "<div style = \"text-align:center;\"> <img src=\"./img/newton.png\" width=\"500\"/> </div><br>"
   ]
  },
  {
   "cell_type": "markdown",
   "metadata": {},
   "source": [
    "Taken, the approximate root value $x_{1}$ of the function is know, it is possible to find a better approximation $x_{i+1}$,if the formula $x_{i+1}=x_{i}-\\frac{f(x_{i})}{f^{'}(x_{i}}$ is applied. <br> To find reciprocal of the value d, we will apply the N-R method fo find root of the function $f(x)=\\frac{1}{x}-d$ . Because, the derivative of the function $\\frac{1}{x}-d$ is $f'(x)=-\\frac{1}{x^{2}}$, the N-R formula for the reciprocal takes the form $x_{i+1}=x_{i}*(2-d*x_{i})$. The only problem that remains, is to find initial value $x_{0}$ to start iteration. Here, we will use the linear approximation of the $\\frac{1}{d}$ function in range (0, 1]:\n",
    "$$x_{0} = -1.88235*d+2.82353$$\n",
    "Putting together, scaling, linear approximation, and the N-R iterations, it is possible to\n",
    "formulate the algoritm."
   ]
  },
  {
   "cell_type": "markdown",
   "metadata": {},
   "source": [
    "```cpp\n",
    "`timescale 1ns / 1ps\n",
    "////////////////////////////////////////////////////////////////////////////////\n",
    "// Design Name:\n",
    "// Module Name: reciprocal_beh\n",
    "// File Name: reciprocal_beh.sv\n",
    "////////////////////////////////////////////////////////////////////////////////\n",
    "module en_reciprocal_beh(\n",
    "    input logic [15:0] input0, // argument: integer [15:0]\n",
    "    output logic [4:-19] output0 // result: fixed point [5:19] representation\n",
    ");\n",
    "// Constants\n",
    "logic [4:-19] A = 24'h0F0F0D; // Fixed point [5:19] representation of 1.88235\n",
    "logic [4:-19] B = 24'h169696; // Fixed point [5:19] representation of 2,82353\n",
    "logic [4:-19] HALF = 32'h040000; // Fixed point [4:19] representation of 0.5\n",
    "logic [4:-19] TWO = 32'h100000; // Fixed point [4:19] representation of 2\n",
    "// Variables\n",
    "logic [4:0] scaling; // Keeps scaling factor\n",
    "logic [9:-38] mulResult; // Temporary result of multiplication [5:19] * [5;19]\n",
    "logic [4:-19] scaledVal;\n",
    "logic [4:-19] approxVal;\n",
    "logic [4:-19] newVal;\n",
    "real resultFP; // To display human readable\n",
    "always_comb begin\n",
    "    // Here scaledVal = input / 2**19 for different data representations\n",
    "    scaledVal = input0; // IDLE\n",
    "    // therefore scaling starts from maximum value and goes backwards\n",
    "    scaling = 19;\n",
    "    // Scale tmpValue to range [0.5, 1] i.e. [0x080000, 0x040000] in integer\n",
    "    // In difference to oryginal algorithm we multiply by two in each iteration\n",
    "    while( scaledVal < HALF ) begin // COMP_AND_SCALE\n",
    "        scaledVal = scaledVal << 1; // Multiply by two i.e. LSR\n",
    "        scaling --;\n",
    "    end\n",
    "    // Take Linear aproximation x0 = 2.82353 - 1.88235 * d.\n",
    "    mulResult = scaledVal * A; // Result is fixpoint [10:38]. MUL_A\n",
    "    approxVal = mulResult >> 19; // keep [4:19] fxp format\n",
    "    approxVal = B - approxVal; // SUB_B\n",
    "    while(1) begin // iterate: x(i+1) = x(i) * ( 2 - x(i)*d )\n",
    "        mulResult = approxVal * scaledVal; // MUL_SCALED\n",
    "        newVal = mulResult >> 19; // keep [4:19] fxp format\n",
    "        newVal = TWO - newVal; // SUB_2\n",
    "        mulResult = approxVal * newVal; // MUL_NEW\n",
    "        newVal = mulResult >> 19; // keep [4:19] fxp format\n",
    "        if( approxVal == newVal ) begin break; end // CHECK_EQ\n",
    "        approxVal = newVal; // ASSIGN_NEW\n",
    "    end\n",
    "    // Denormalize back to oryginal range\n",
    "    approxVal = approxVal >> scaling;\n",
    "    output0 = approxVal;\n",
    "    // Print result\n",
    "    $display(\"Binary result is = %b\", approxVal);\n",
    "    resultFP = approxVal;\n",
    "    resultFP = resultFP / 2**19;\n",
    "    $display(\"Real value is = %f\", resultFP);\n",
    "end\n",
    "endmodule\n",
    "```"
   ]
  },
  {
   "cell_type": "markdown",
   "metadata": {},
   "source": [
    "## Python simulation\n",
    "<ul>The code below simulates the algorithm for calculating the reciprocal of a number using fixed-point arithmetic with iterative loops and bitwise operations. It shifts the input value input0 into the appropriate range, applies linear and iterative approximation, and then outputs the result in binary form and as a floating-point number.</ul>"
   ]
  },
  {
   "cell_type": "code",
   "execution_count": 4,
   "metadata": {},
   "outputs": [
    {
     "name": "stdout",
     "output_type": "stream",
     "text": [
      "Binary result is = 0000000000000000101000\n",
      "Real value is = 0.000076\n"
     ]
    }
   ],
   "source": [
    "def reciprocal_behavior(input0):\n",
    "    A = 0x0F0F0D  # Fixed point [5:19] representation of 1.88235\n",
    "    B = 0x169696  # Fixed point [5:19] representation of 2.82353\n",
    "    HALF = 0x040000  # Fixed point [4:19] representation of 0.5\n",
    "    TWO = 0x100000  # Fixed point [4:19] representation of 2\n",
    "    \n",
    "    scaling = 19\n",
    "    scaledVal = input0\n",
    "    \n",
    "    while scaledVal < HALF:\n",
    "        scaledVal <<= 1 # HERE (should be 1)\n",
    "        scaling -= 1\n",
    "    \n",
    "    # Linear approximation x0 = 2.82353 - 1.88235 * d\n",
    "    mulResult = scaledVal * A\n",
    "    approxVal = mulResult >> 19\n",
    "    approxVal = B - approxVal\n",
    "    \n",
    "    # Iterative approximation: x(i+1) = x(i) * (2 - x(i) * d)\n",
    "    while True:\n",
    "        mulResult = approxVal * scaledVal\n",
    "        newVal = mulResult >> 19\n",
    "        newVal = TWO - newVal\n",
    "        \n",
    "        mulResult = approxVal * newVal\n",
    "        newVal = mulResult >> 19\n",
    "        \n",
    "        if approxVal == newVal:\n",
    "            break\n",
    "        \n",
    "        approxVal = newVal\n",
    "    \n",
    "    # Denormalize back to original range\n",
    "    approxVal >>= scaling\n",
    "    \n",
    "    # Print results (binary and real)\n",
    "    print(f\"Binary result is = {approxVal:022b}\")\n",
    "    resultFP = approxVal / float(1 << 19)\n",
    "    print(f\"Real value is = {resultFP:.6f}\")\n",
    "\n",
    "# Example usage\n",
    "if __name__ == \"__main__\":\n",
    "    input0 = 0x3322  # Example input value in hexadecimal\n",
    "    reciprocal_behavior(input0)\n"
   ]
  },
  {
   "cell_type": "markdown",
   "metadata": {},
   "source": [
    "# Simulation using dedicated PYNQ hardware file\n",
    "\n",
    "## Downloading .xsa file"
   ]
  },
  {
   "cell_type": "code",
   "execution_count": 5,
   "metadata": {},
   "outputs": [
    {
     "data": {
      "application/javascript": [
       "\n",
       "try {\n",
       "require(['notebook/js/codecell'], function(codecell) {\n",
       "  codecell.CodeCell.options_default.highlight_modes[\n",
       "      'magic_text/x-csrc'] = {'reg':[/^%%microblaze/]};\n",
       "  Jupyter.notebook.events.one('kernel_ready.Kernel', function(){\n",
       "      Jupyter.notebook.get_cells().map(function(cell){\n",
       "          if (cell.cell_type == 'code'){ cell.auto_highlight(); } }) ;\n",
       "  });\n",
       "});\n",
       "} catch (e) {};\n"
      ]
     },
     "metadata": {},
     "output_type": "display_data"
    },
    {
     "data": {
      "application/javascript": [
       "\n",
       "try {\n",
       "require(['notebook/js/codecell'], function(codecell) {\n",
       "  codecell.CodeCell.options_default.highlight_modes[\n",
       "      'magic_text/x-csrc'] = {'reg':[/^%%pybind11/]};\n",
       "  Jupyter.notebook.events.one('kernel_ready.Kernel', function(){\n",
       "      Jupyter.notebook.get_cells().map(function(cell){\n",
       "          if (cell.cell_type == 'code'){ cell.auto_highlight(); } }) ;\n",
       "  });\n",
       "});\n",
       "} catch (e) {};\n"
      ]
     },
     "metadata": {},
     "output_type": "display_data"
    }
   ],
   "source": [
    "from pynq import Overlay\n",
    "\n",
    "n_rap_ov = Overlay(\"newton_rap.xsa\")\n",
    "n_rap = n_rap_ov.new_rap_0.mmio"
   ]
  },
  {
   "cell_type": "markdown",
   "metadata": {},
   "source": [
    "## Adding offsets to the values we read from PYNQ"
   ]
  },
  {
   "cell_type": "code",
   "execution_count": 6,
   "metadata": {},
   "outputs": [],
   "source": [
    "start_of = 8\n",
    "ready_of = 12\n",
    "input_of = 16\n",
    "output_of = 4"
   ]
  },
  {
   "cell_type": "markdown",
   "metadata": {},
   "source": [
    "## Analysis of the algorithm operation using PYNQ"
   ]
  },
  {
   "cell_type": "code",
   "execution_count": 7,
   "metadata": {},
   "outputs": [
    {
     "name": "stdout",
     "output_type": "stream",
     "text": [
      "0.5\n"
     ]
    }
   ],
   "source": [
    "import numpy as np\n",
    "\n",
    "input_num = 2\n",
    "output_num = 0\n",
    "\n",
    "# Run IP module\n",
    "n_rap.write(input_of, input_num)\n",
    "n_rap.write(start_of, 1)\n",
    "\n",
    "while (n_rap.read(ready_of) == 0):\n",
    "    pass\n",
    "\n",
    "output_num = n_rap.read(output_of)\n",
    "\n",
    "# Read the output value\n",
    "print(output_num / 524288)  # 524288 is used to bit shift the value"
   ]
  },
  {
   "cell_type": "markdown",
   "metadata": {},
   "source": [
    "## Generating next input values for the Newton-Rapson division algorithm"
   ]
  },
  {
   "cell_type": "code",
   "execution_count": 8,
   "metadata": {},
   "outputs": [],
   "source": [
    "import matplotlib.pyplot as plt\n",
    "\n",
    "num_iterations = 500 #Values range from 1-65535 but very high values will calculate for a long time\n",
    "\n",
    "input_value = []\n",
    "output_value = []\n",
    "expected_output_value = []\n",
    "difference = []\n",
    "\n",
    "for i in range(num_iterations):\n",
    "\n",
    "    input_num = 1 + i\n",
    "    output_num = 0\n",
    "\n",
    "    n_rap.write(input_of, input_num)\n",
    "    n_rap.write(start_of, 1)\n",
    "\n",
    "    while (n_rap.read(ready_of) == 0):\n",
    "        pass\n",
    "\n",
    "    output_num = n_rap.read(output_of)\n",
    "\n",
    "    input_value.append(input_num)\n",
    "    output_value.append(output_num/524288)\n",
    "    expected_output_value.append(1 / input_num)\n",
    "    difference.append((abs(output_value[i] - expected_output_value[i]) / expected_output_value[i]) * 100)"
   ]
  },
  {
   "cell_type": "markdown",
   "metadata": {},
   "source": [
    "## Plotting values on graphs"
   ]
  },
  {
   "cell_type": "code",
   "execution_count": 9,
   "metadata": {},
   "outputs": [
    {
     "data": {
      "image/png": "[encoded data removed]",
      "text/plain": [
       "<Figure size 864x432 with 2 Axes>"
      ]
     },
     "metadata": {
      "needs_background": "light"
     },
     "output_type": "display_data"
    },
    {
     "data": {
      "image/png": "[encoded data removed]",
      "text/plain": [
       "<Figure size 720x432 with 1 Axes>"
      ]
     },
     "metadata": {
      "needs_background": "light"
     },
     "output_type": "display_data"
    }
   ],
   "source": [
    "plt.figure(figsize=(12, 6))\n",
    "\n",
    "plt.subplot(1, 2, 1)\n",
    "plt.scatter(input_value, output_value, color='blue', label='Output value')\n",
    "plt.title('Dependency of output values on input values')\n",
    "plt.xlabel('Input value')\n",
    "plt.ylabel('Output value')\n",
    "plt.legend()\n",
    "plt.grid(True)\n",
    "\n",
    "plt.subplot(1, 2, 2)\n",
    "plt.scatter(input_value, expected_output_value, color='green', label='Expected output value')\n",
    "plt.title('Dependency of expected output values on input values')\n",
    "plt.xlabel('Input value')\n",
    "plt.ylabel('Expected output value')\n",
    "plt.legend()\n",
    "plt.grid(True)\n",
    "\n",
    "plt.tight_layout()\n",
    "plt.show()\n",
    "\n",
    "plt.figure(figsize=(10, 6))\n",
    "plt.plot(input_value, difference, label='Difference between values', color='blue')\n",
    "plt.xlabel('Input number')\n",
    "plt.ylabel('Difference [%]')\n",
    "plt.title('Dependency of difference of values on input values')\n",
    "plt.legend()\n",
    "plt.grid(True)\n",
    "plt.show()"
   ]
  },
  {
   "cell_type": "markdown",
   "metadata": {},
   "source": [
    "# Analyze the obtained results from Newton-Raphson algorithm\n",
    "\n",
    "# Downloading .csv file"
   ]
  },
  {
   "cell_type": "markdown",
   "metadata": {},
   "source": [
    "## Downloading Pandas library to collect .csv files\n",
    "\n",
    "To download Pandas write the code below into cmd on PuTTY (Ubuntu system present on Kria board)\n",
    "```bash\n",
    "sudo pip3 install pandas\n",
    "```"
   ]
  },
  {
   "cell_type": "code",
   "execution_count": 10,
   "metadata": {},
   "outputs": [
    {
     "name": "stdout",
     "output_type": "stream",
     "text": [
      "     Time   clk   input    output     check\n",
      "0    5125     1     1.0  1.000000  1.000000\n",
      "1   10225     1     2.0  0.500000  0.500000\n",
      "2   14575     1     3.0  0.333332  0.333333\n",
      "3   19625     1     4.0  0.250000  0.250000\n",
      "4   23925     1     5.0  0.199999  0.200000\n",
      "5   28225     1     6.0  0.166666  0.166667\n",
      "6   32525     1     7.0  0.142857  0.142857\n",
      "7   37525     1     8.0  0.125000  0.125000\n",
      "8   41025     1     9.0  0.111111  0.111111\n",
      "9   45275     1    10.0  0.099998  0.100000\n",
      "10  49525     1    11.0  0.090908  0.090909\n",
      "11  53775     1    12.0  0.083332  0.083333\n",
      "12  58775     1    13.0  0.076921  0.076923\n",
      "13  63025     1    14.0  0.071428  0.071429\n",
      "14  67275     1    15.0  0.066666  0.066667\n",
      "15  72225     1    16.0  0.062500  0.062500\n",
      "16  77175     1    17.0  0.058823  0.058824\n",
      "17  80625     1    18.0  0.055555  0.055556\n",
      "18  84825     1    19.0  0.052631  0.052632\n",
      "19  89025     1    20.0  0.049999  0.050000\n",
      "20  93225     1    21.0  0.047619  0.047619\n",
      "21  97425     1    22.0  0.045454  0.045455\n"
     ]
    }
   ],
   "source": [
    "import pandas as pd\n",
    "\n",
    "df = pd.read_csv('simulation_output.csv')\n",
    "\n",
    "print(df)\n"
   ]
  },
  {
   "cell_type": "markdown",
   "metadata": {},
   "source": [
    "<ul>The algorithm reacts to the appearance of a new output value. As observed, the received inverse value using the algorithm aligns with the expected values. The table contains information about the time of receiving the new information, the slope to which the algorithm responds, the input value, the output value, and the expected output value.</ul>"
   ]
  },
  {
   "cell_type": "code",
   "execution_count": 11,
   "metadata": {},
   "outputs": [
    {
     "data": {
      "image/png": "[encoded data removed]",
      "text/plain": [
       "<Figure size 720x432 with 1 Axes>"
      ]
     },
     "metadata": {
      "needs_background": "light"
     },
     "output_type": "display_data"
    },
    {
     "name": "stdout",
     "output_type": "stream",
     "text": [
      "The amount of required clock cycles:  [ 102.  204.  291.  392.  478.  564.  650.  750.  820.  905.  990. 1075.\n",
      " 1175. 1260. 1345. 1444. 1543. 1612. 1696. 1780. 1864. 1948.] \n",
      "\n",
      "The difference between the obtained output value and the expected value in %:\n",
      " [0.         0.         0.0003     0.         0.0005     0.0006\n",
      " 0.         0.         0.         0.00200004 0.00110001 0.00120002\n",
      " 0.00260007 0.00140001 0.00150002 0.         0.00170002 0.00180002\n",
      " 0.00190002 0.00200004 0.         0.00220003]\n"
     ]
    },
    {
     "data": {
      "image/png": "[encoded data removed]",
      "text/plain": [
       "<Figure size 720x432 with 1 Axes>"
      ]
     },
     "metadata": {
      "needs_background": "light"
     },
     "output_type": "display_data"
    },
    {
     "data": {
      "image/png": "[encoded data removed]",
      "text/plain": [
       "<Figure size 720x432 with 1 Axes>"
      ]
     },
     "metadata": {
      "needs_background": "light"
     },
     "output_type": "display_data"
    },
    {
     "data": {
      "image/png": "[encoded data removed]",
      "text/plain": [
       "<Figure size 720x432 with 1 Axes>"
      ]
     },
     "metadata": {
      "needs_background": "light"
     },
     "output_type": "display_data"
    }
   ],
   "source": [
    "import pandas as pd\n",
    "import matplotlib.pyplot as plt\n",
    "\n",
    "df = pd.read_csv('simulation_output.csv')\n",
    "\n",
    "matrix = df.values\n",
    "\n",
    "output = matrix[:, 3]\n",
    "time = matrix[:, 0]\n",
    "cycle = (time-25)/50\n",
    "check = matrix[:, 4]\n",
    "diff = abs(matrix[:, 3] - matrix[:, 4])/matrix[:, 3]\n",
    "\n",
    "plt.figure(figsize=(10, 6))\n",
    "plt.plot(time, output, label='Obtained values', color='blue')\n",
    "plt.plot(time, check, label='Expected values', color='green')\n",
    "plt.xlabel('Time [ns]')\n",
    "plt.ylabel('Values')\n",
    "plt.title('Dependency of obtained and expected values on time')\n",
    "plt.legend()\n",
    "plt.grid(True)\n",
    "plt.show()\n",
    "\n",
    "print(\"The amount of required clock cycles: \", cycle, \"\\n\")\n",
    "print(\"The difference between the obtained output value and the expected value in %:\\n\", diff*100)\n",
    "\n",
    "plt.figure(figsize=(10, 6))\n",
    "plt.plot(time, check, label='Expected values', color='green')\n",
    "plt.xlabel('Time [ns]')\n",
    "plt.ylabel('Expected values')\n",
    "plt.title('Dependency of expected values on time')\n",
    "plt.legend()\n",
    "plt.grid(True)\n",
    "plt.show()\n",
    "\n",
    "plt.figure(figsize=(10, 6))\n",
    "plt.plot(time, output, label='Obtained values', color='blue')\n",
    "plt.xlabel('Time [ns]')\n",
    "plt.ylabel('Obtained Values')\n",
    "plt.title('Dependency of obtained values on time')\n",
    "plt.legend()\n",
    "plt.grid(True)\n",
    "plt.show()\n",
    "\n",
    "plt.figure(figsize=(10, 6))\n",
    "plt.plot(time, diff, label='Difference between values', color='blue')\n",
    "plt.xlabel('Time [ns]')\n",
    "plt.ylabel('Difference [%]')\n",
    "plt.title('Dependency of difference of values on time')\n",
    "plt.legend()\n",
    "plt.grid(True)\n",
    "plt.show()\n"
   ]
  },
  {
   "cell_type": "code",
   "execution_count": null,
   "metadata": {},
   "outputs": [],
   "source": []
  }
 ],
 "metadata": {
  "kernelspec": {
   "display_name": "Python 3 (ipykernel)",
   "language": "python",
   "name": "python3"
  },
  "language_info": {
   "codemirror_mode": {
    "name": "ipython",
    "version": 3
   },
   "file_extension": ".py",
   "mimetype": "text/x-python",
   "name": "python",
   "nbconvert_exporter": "python",
   "pygments_lexer": "ipython3",
   "version": "3.10.12"
  }
 },
 "nbformat": 4,
 "nbformat_minor": 4
}
